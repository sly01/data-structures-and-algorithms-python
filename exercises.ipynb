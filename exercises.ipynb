{
 "cells": [
  {
   "cell_type": "code",
   "execution_count": 3,
   "metadata": {},
   "outputs": [],
   "source": [
    "def factorial(num):\n",
    "    if num == 1:\n",
    "        return 1\n",
    "    return num * factorial(num-1)"
   ]
  },
  {
   "cell_type": "code",
   "execution_count": 8,
   "metadata": {},
   "outputs": [
    {
     "data": {
      "text/plain": [
       "120"
      ]
     },
     "execution_count": 8,
     "metadata": {},
     "output_type": "execute_result"
    }
   ],
   "source": [
    "factorial(3)\n",
    "factorial(4)\n",
    "factorial(5)"
   ]
  },
  {
   "cell_type": "code",
   "execution_count": 21,
   "metadata": {},
   "outputs": [],
   "source": [
    "def reverseString(string):\n",
    "    return string[::-1]\n",
    "\n",
    "def reverseString1(string):\n",
    "    return \"\".join(list(reversed(string)))\n",
    "\n",
    "def revString(string):\n",
    "    s = \"\"\n",
    "    for i in string:\n",
    "        s = i + s\n",
    "    return s"
   ]
  },
  {
   "cell_type": "code",
   "execution_count": 22,
   "metadata": {},
   "outputs": [
    {
     "name": "stdout",
     "output_type": "stream",
     "text": [
      "arakna\n",
      "arakna\n",
      "arakna\n"
     ]
    }
   ],
   "source": [
    "print(reverseString(\"ankara\"))\n",
    "print(reverseString1(\"ankara\"))\n",
    "print(revString(\"ankara\"))"
   ]
  },
  {
   "cell_type": "code",
   "execution_count": 23,
   "metadata": {},
   "outputs": [],
   "source": [
    "def timeConverter(time):\n",
    "    hour = time // 60\n",
    "    minute = time % 60\n",
    "    return \"{}:{}\".format(hour, minute)"
   ]
  },
  {
   "cell_type": "code",
   "execution_count": 25,
   "metadata": {},
   "outputs": [
    {
     "name": "stdout",
     "output_type": "stream",
     "text": [
      "2:8\n"
     ]
    }
   ],
   "source": [
    "print(timeConverter(128))"
   ]
  },
  {
   "cell_type": "code",
   "execution_count": 2,
   "metadata": {},
   "outputs": [],
   "source": [
    "def titleMaker(string):\n",
    "    final_string = \"\"\n",
    "    words = string.split(\" \")\n",
    "    for word in words:\n",
    "        word = word[0].upper() + word[1:] + \" \"\n",
    "        final_string += word\n",
    "    return final_string.rstrip()"
   ]
  },
  {
   "cell_type": "code",
   "execution_count": 3,
   "metadata": {},
   "outputs": [
    {
     "data": {
      "text/plain": [
       "'Ahmet Erkoc Malaga Ispanya'"
      ]
     },
     "execution_count": 3,
     "metadata": {},
     "output_type": "execute_result"
    }
   ],
   "source": [
    "titleMaker(\"ahmet erkoc malaga ispanya\")"
   ]
  },
  {
   "cell_type": "code",
   "execution_count": 2,
   "metadata": {},
   "outputs": [],
   "source": [
    "def stringCompare(str1, str2):\n",
    "    for i in str2:\n",
    "        if i not in str1:\n",
    "            return False\n",
    "    return True"
   ]
  },
  {
   "cell_type": "code",
   "execution_count": 5,
   "metadata": {},
   "outputs": [
    {
     "name": "stdout",
     "output_type": "stream",
     "text": [
      "True\n",
      "False\n"
     ]
    }
   ],
   "source": [
    "print(stringCompare(\"ankara\", \"kaarna\"))\n",
    "print(stringCompare(\"ankara\", \"zarks\"))"
   ]
  },
  {
   "cell_type": "code",
   "execution_count": 6,
   "metadata": {},
   "outputs": [],
   "source": [
    "def frequencyFinder(string):\n",
    "    i = 0\n",
    "    final_string = \"\"\n",
    "    while i < len(string):\n",
    "        c = string[i]\n",
    "        j = i + 1\n",
    "        compressed = [1, c]\n",
    "        while j < len(string):\n",
    "            if string[j] == c:\n",
    "                compressed[0] += 1\n",
    "            else:\n",
    "                break\n",
    "            j += 1\n",
    "        final_string += \"\".join(map(str, compressed))\n",
    "        \n",
    "        i = j\n",
    "    return final_string\n",
    "                \n",
    "        "
   ]
  },
  {
   "cell_type": "code",
   "execution_count": 7,
   "metadata": {},
   "outputs": [
    {
     "data": {
      "text/plain": [
       "'2k1w3c2d2e'"
      ]
     },
     "execution_count": 7,
     "metadata": {},
     "output_type": "execute_result"
    }
   ],
   "source": [
    "frequencyFinder(\"kkwcccddee\")"
   ]
  },
  {
   "cell_type": "code",
   "execution_count": 43,
   "metadata": {},
   "outputs": [],
   "source": [
    "def missingX(string):\n",
    "    \n",
    "    for i in range(10):\n",
    "        c = string.replace(\"x\", str(i))\n",
    "        equation = c.split(\"=\")[0]\n",
    "        result = c.split(\"=\")[1]\n",
    "        if eval(equation) == eval(result):\n",
    "            return i"
   ]
  },
  {
   "cell_type": "code",
   "execution_count": 47,
   "metadata": {},
   "outputs": [
    {
     "name": "stdout",
     "output_type": "stream",
     "text": [
      "6\n",
      "1\n"
     ]
    }
   ],
   "source": [
    "print(missingX(\"10 - x = 4\"))\n",
    "print(missingX(\"1x * 11 = 121\"))"
   ]
  },
  {
   "cell_type": "code",
   "execution_count": 5,
   "metadata": {},
   "outputs": [],
   "source": [
    "def rotateArray(array):\n",
    "    start_index = array[0]\n",
    "    new_array = array[start_index:] + array[:start_index]\n",
    "    return ''.join(map(str, new_array))"
   ]
  },
  {
   "cell_type": "code",
   "execution_count": 8,
   "metadata": {},
   "outputs": [
    {
     "name": "stdout",
     "output_type": "stream",
     "text": [
      "4523\n",
      "89101112134567\n"
     ]
    }
   ],
   "source": [
    "print(rotateArray([2,3,4,5]))\n",
    "print(rotateArray([4,5,6,7,8,9,10,11,12,13]))"
   ]
  },
  {
   "cell_type": "code",
   "execution_count": 60,
   "metadata": {},
   "outputs": [],
   "source": [
    "def arrayCouple(array):\n",
    "    lst = [ array[i:i+2] for i in range(0, len(array), 2) ]\n",
    "    non_pair = []\n",
    "    for l in lst:\n",
    "        if l[::-1] not in lst:\n",
    "            non_pair.append(l)\n",
    "        elif l == l[::-1] and lst.count(l) < 2:\n",
    "            non_pair.append(l)\n",
    "    if non_pair:\n",
    "        return \",\".join(str(i) for n in non_pair for i in n)\n",
    "    return \"ok\""
   ]
  },
  {
   "cell_type": "code",
   "execution_count": 62,
   "metadata": {},
   "outputs": [
    {
     "name": "stdout",
     "output_type": "stream",
     "text": [
      "ok\n",
      "ok\n",
      "3,3\n"
     ]
    }
   ],
   "source": [
    "print(arrayCouple([5,6,6,5,3,3,3,3,2,3,3,2]))\n",
    "print(arrayCouple([7,8,8,7,9,1,1,9]))\n",
    "print(arrayCouple([5,6,6,5,3,3]))\n"
   ]
  },
  {
   "cell_type": "code",
   "execution_count": 24,
   "metadata": {},
   "outputs": [],
   "source": [
    "def splitWordsLegacy(arr):\n",
    "    word = arr[0]\n",
    "    options = arr[1]\n",
    "    for i in range(len(word)):\n",
    "        if word[:i] in options and word[i:] in options:\n",
    "            return word[:i], word[i:]"
   ]
  },
  {
   "cell_type": "code",
   "execution_count": 25,
   "metadata": {},
   "outputs": [
    {
     "data": {
      "text/plain": [
       "('deep', 'learning')"
      ]
     },
     "execution_count": 25,
     "metadata": {},
     "output_type": "execute_result"
    }
   ],
   "source": [
    "splitWordsLegacy([\"deeplearning\", \"de,dee,deep,le,deeple,learning\"])"
   ]
  },
  {
   "cell_type": "code",
   "execution_count": 26,
   "metadata": {},
   "outputs": [],
   "source": [
    "def splitWords(arr):\n",
    "    word = arr[0]\n",
    "    options = arr[1].split(',')\n",
    "    for i in range(len(options)):\n",
    "        for j in range(i+1, len(options)):\n",
    "            if options[i] + options[j] == word:\n",
    "                return options[i], options[j]\n",
    "            "
   ]
  },
  {
   "cell_type": "code",
   "execution_count": 27,
   "metadata": {},
   "outputs": [
    {
     "data": {
      "text/plain": [
       "('deep', 'learning')"
      ]
     },
     "execution_count": 27,
     "metadata": {},
     "output_type": "execute_result"
    }
   ],
   "source": [
    "splitWords([\"deeplearning\", \"de,dee,deep,le,deeple,learning\"])"
   ]
  },
  {
   "cell_type": "code",
   "execution_count": 40,
   "metadata": {},
   "outputs": [],
   "source": [
    "def splitWordsNew(arr):\n",
    "    word = list(arr[0])\n",
    "    options = arr[1].split(',')\n",
    "    for i in range(1, len(word)):\n",
    "        c = word[:]\n",
    "        c.insert(i, \" \")\n",
    "        x , y = ''.join(c).split()\n",
    "        if x in options and y in options:\n",
    "            return x,y"
   ]
  },
  {
   "cell_type": "code",
   "execution_count": 41,
   "metadata": {},
   "outputs": [
    {
     "data": {
      "text/plain": [
       "('deep', 'learning')"
      ]
     },
     "execution_count": 41,
     "metadata": {},
     "output_type": "execute_result"
    }
   ],
   "source": [
    "splitWordsNew([\"deeplearning\", \"de,dee,deep,le,deeple,learning\"])"
   ]
  },
  {
   "cell_type": "code",
   "execution_count": 13,
   "metadata": {},
   "outputs": [],
   "source": [
    "open_list = [\"{\", \"[\", \"(\"]\n",
    "close_list = [\"}\", \"]\", \")\"]\n",
    "# Complete the isBalanced function below.\n",
    "def isBalanced(s):\n",
    "    stack = []\n",
    "    for i in s:\n",
    "        print(stack)\n",
    "        if i in open_list:\n",
    "            stack.append(i)\n",
    "        elif i in close_list:\n",
    "            pos = close_list.index(i)\n",
    "            if (len(stack) > 0) and open_list[pos] == stack[-1]:\n",
    "                stack.pop()\n",
    "            else:\n",
    "                return \"NO\"\n",
    "    if len(stack) == 0:\n",
    "        return \"YES\"\n",
    "    else:\n",
    "        return \"NO\""
   ]
  },
  {
   "cell_type": "code",
   "execution_count": 14,
   "metadata": {},
   "outputs": [
    {
     "name": "stdout",
     "output_type": "stream",
     "text": [
      "[]\n",
      "['{']\n",
      "['{', '{']\n",
      "['{']\n",
      "NO\n"
     ]
    }
   ],
   "source": [
    "print(isBalanced(\"{{}(\"))"
   ]
  },
  {
   "cell_type": "code",
   "execution_count": null,
   "metadata": {},
   "outputs": [],
   "source": []
  }
 ],
 "metadata": {
  "kernelspec": {
   "display_name": "Python 3",
   "language": "python",
   "name": "python3"
  },
  "language_info": {
   "codemirror_mode": {
    "name": "ipython",
    "version": 3
   },
   "file_extension": ".py",
   "mimetype": "text/x-python",
   "name": "python",
   "nbconvert_exporter": "python",
   "pygments_lexer": "ipython3",
   "version": "3.7.1"
  }
 },
 "nbformat": 4,
 "nbformat_minor": 2
}
